{
 "cells": [
  {
   "cell_type": "code",
   "execution_count": 1,
   "metadata": {
    "cellView": "form",
    "id": "679Lmwt3l1Bk"
   },
   "outputs": [],
   "source": [
    "#!/usr/bin/env python\n",
    "# -*- coding: utf-8 -*-"
   ]
  },
  {
   "cell_type": "markdown",
   "metadata": {},
   "source": [
    "Names and PRN for all group members:\n",
    "- Name: ______________________\n",
    "- PRN:  ______________________\n",
    "- Date: ______________________"
   ]
  },
  {
   "cell_type": "markdown",
   "metadata": {
    "id": "jTX3d6qEYhvg"
   },
   "source": [
    "# Deep Neural Networks\n",
    "## A07: Group Assignment\n",
    "\n",
    "\n",
    "##  Convolutional Neural Network (CNN)\n",
    "\n",
    "- Flowers Dataset\n"
   ]
  },
  {
   "cell_type": "code",
   "execution_count": 4,
   "metadata": {
    "id": "iAve6DCL4JH4"
   },
   "outputs": [],
   "source": [
    "###-----------------\n",
    "### Import Libraries\n",
    "###-----------------\n",
    "import os\n",
    "import gc\n",
    "import sys\n",
    "import time\n",
    "import numpy as np\n",
    "import pandas as pd\n",
    "import seaborn as sns\n",
    "\n",
    "import matplotlib.pyplot as plt\n",
    "import tensorflow as tf\n",
    "from sklearn.preprocessing import StandardScaler, MinMaxScaler\n",
    "from sklearn.metrics import classification_report\n",
    "from sklearn.model_selection import train_test_split\n",
    "\n",
    "parent_dir = os.path.abspath('..')\n",
    "sys.path.insert(0, parent_dir)\n",
    "\n",
    "\n",
    "from utils.helper import fn_plot_tf_hist, fn_plot_confusion_matrix, fn_plot_label\n",
    "from utils.configuration import Config"
   ]
  },
  {
   "cell_type": "code",
   "execution_count": 5,
   "metadata": {
    "id": "l-56YHubYhvq"
   },
   "outputs": [],
   "source": [
    "###----------------------\n",
    "### Some basic parameters\n",
    "###----------------------\n",
    "\n",
    "inpDir = os.path.join('..', 'input')\n",
    "outDir = '../output'\n",
    "modelDir = '../models'\n",
    "subDir = 'flower_photos'\n",
    "altName = 'base_model'\n",
    "\n",
    "\n",
    "EPOCHS = 100\n",
    "ALPHA = .001\n",
    "TEST_SIZE = .2\n",
    "BATCH_SIZE = 32\n",
    "RANDOM_STATE = 24 # for initialization ----- REMEMBER: to remove at the time of promotion to production\n",
    "np.random.seed(RANDOM_STATE) # Set Random Seed for reproducible results\n",
    "tf.random.set_seed(RANDOM_STATE)\n",
    "\n",
    "# parameters for Matplotlib\n",
    "params = {'legend.fontsize': 'large',\n",
    "          'figure.figsize': (15, 8),\n",
    "          'axes.labelsize': 'large',\n",
    "          'axes.titlesize':'x-large',\n",
    "          'xtick.labelsize':'large',\n",
    "          'ytick.labelsize':'large'\n",
    "         }\n",
    "\n",
    "CMAP = 'brg' # plt.cm.Spectral\n",
    "\n",
    "plt.rcParams.update(params)"
   ]
  },
  {
   "cell_type": "code",
   "execution_count": 6,
   "metadata": {},
   "outputs": [
    {
     "data": {
      "text/plain": [
       "['daisy', 'dandelion', 'LICENSE.txt', 'roses', 'sunflowers', 'tulips']"
      ]
     },
     "execution_count": 6,
     "metadata": {},
     "output_type": "execute_result"
    }
   ],
   "source": [
    "data_dir = os.path.join(inpDir, subDir)\n",
    "os.listdir(data_dir)"
   ]
  },
  {
   "cell_type": "code",
   "execution_count": 7,
   "metadata": {},
   "outputs": [],
   "source": [
    "IMG_HEIGHT = 188\n",
    "IMG_WIDTH = 188"
   ]
  },
  {
   "cell_type": "markdown",
   "metadata": {
    "id": "pZ9KD8ZnYhv0"
   },
   "source": [
    "## Load Dataset\n",
    "\n",
    "Images are under flower_photos\n",
    "\n",
    "     |- daisy\n",
    "     |- dandelion\n",
    "     |- roses\n",
    "     |- sunflowers\n",
    "     |- tulips"
   ]
  },
  {
   "cell_type": "code",
   "execution_count": 9,
   "metadata": {
    "colab": {
     "base_uri": "https://localhost:8080/",
     "height": 70
    },
    "id": "1FxqsV2_Yhv1",
    "outputId": "42871080-3000-4d5d-c8a7-71c70948371a"
   },
   "outputs": [],
   "source": [
    "'''\n",
    "    For reading from web link\n",
    "'''\n",
    "\n",
    "#import pathlib\n",
    "#dataset_url = \"https://storage.googleapis.com/download.tensorflow.org/example_images/flower_photos.tgz\"\n",
    "#data_dir = tf.keras.utils.get_file(origin=dataset_url,\n",
    "#                                   fname='flower_photos',\n",
    "#                                   untar=True)\n",
    "#data_dir = pathlib.Path(data_dir)\n",
    "'''\n",
    "    For reading from local directory\n",
    "'''\n",
    "data_dir = os.path.join(inpDir, subDir)"
   ]
  },
  {
   "cell_type": "code",
   "execution_count": 10,
   "metadata": {},
   "outputs": [],
   "source": [
    "# use f1 score to tune"
   ]
  },
  {
   "cell_type": "code",
   "execution_count": 11,
   "metadata": {},
   "outputs": [
    {
     "data": {
      "text/plain": [
       "['daisy', 'dandelion', 'LICENSE.txt', 'roses', 'sunflowers', 'tulips']"
      ]
     },
     "execution_count": 11,
     "metadata": {},
     "output_type": "execute_result"
    }
   ],
   "source": [
    "data_dir = os.path.join(inpDir, subDir)\n",
    "os.listdir(data_dir)"
   ]
  },
  {
   "cell_type": "code",
   "execution_count": 12,
   "metadata": {},
   "outputs": [
    {
     "name": "stdout",
     "output_type": "stream",
     "text": [
      "Found 3670 files belonging to 5 classes.\n",
      "Using 2936 files for training.\n",
      "Found 3670 files belonging to 5 classes.\n",
      "Using 734 files for validation.\n"
     ]
    }
   ],
   "source": [
    "train_ds =  tf.keras.preprocessing.image_dataset_from_directory(data_dir,\n",
    "                                                                image_size = (IMG_HEIGHT, IMG_WIDTH),\n",
    "                                                                seed = RANDOM_STATE,\n",
    "                                                                subset = 'training',\n",
    "                                                                validation_split = TEST_SIZE)\n",
    "\n",
    "test_ds =  tf.keras.preprocessing.image_dataset_from_directory(data_dir,\n",
    "                                                                image_size = (IMG_HEIGHT, IMG_WIDTH),\n",
    "                                                                seed = RANDOM_STATE,\n",
    "                                                                subset = 'validation',\n",
    "                                                                validation_split = TEST_SIZE)\n",
    "                                                                "
   ]
  },
  {
   "cell_type": "code",
   "execution_count": 13,
   "metadata": {},
   "outputs": [
    {
     "data": {
      "text/plain": [
       "['daisy', 'dandelion', 'roses', 'sunflowers', 'tulips']"
      ]
     },
     "metadata": {},
     "output_type": "display_data"
    },
    {
     "data": {
      "text/plain": [
       "5"
      ]
     },
     "metadata": {},
     "output_type": "display_data"
    }
   ],
   "source": [
    "# is it getting the class names\n",
    "class_names = train_ds.class_names\n",
    "num_classes = len(class_names)\n",
    "display(class_names, num_classes)"
   ]
  },
  {
   "cell_type": "code",
   "execution_count": 14,
   "metadata": {
    "id": "neVso9tzaYsU"
   },
   "outputs": [],
   "source": [
    "input_shape = (IMG_HEIGHT, IMG_WIDTH, 3)"
   ]
  },
  {
   "cell_type": "markdown",
   "metadata": {},
   "source": [
    "## DATA AUGMENTAION"
   ]
  },
  {
   "cell_type": "code",
   "execution_count": 16,
   "metadata": {},
   "outputs": [],
   "source": [
    "# def augment(imgs, lbls):\n",
    "#     random_seed = 24\n",
    "\n",
    "#     # Define augmentation layers with a fixed seed for deterministic output\n",
    "#     random_rotation = tf.keras.layers.RandomRotation(0.3, seed=random_seed)  # Random Rotation\n",
    "#     random_zoom = tf.keras.layers.RandomZoom(height_factor=(-0.2, -0.2), width_factor=(-0.2, -0.2), seed=random_seed)  # Random Zoom\n",
    "#     random_shift = tf.keras.layers.RandomTranslation(height_factor=0.2, width_factor=0.2, seed=random_seed)  # Random Translation\n",
    "#     random_flip = tf.keras.layers.RandomFlip(\"horizontal\", seed=random_seed)  # Horizontal Flip\n",
    "#     brightness = tf.keras.layers.RandomBrightness(0.2, seed=random_seed)  # Random Brightness\n",
    "\n",
    "\n",
    "\n",
    "#     augmented_image = random_rotation(imgs)\n",
    "#     augmented_image = random_zoom(augmented_image)\n",
    "#     augmented_image = random_shift(augmented_image)\n",
    "#     augmented_image = random_flip(augmented_image)\n",
    "#     augmented_image = brightness(augmented_image)\n",
    "\n",
    "#     return augmented_image, lbls"
   ]
  },
  {
   "cell_type": "code",
   "execution_count": null,
   "metadata": {},
   "outputs": [],
   "source": []
  },
  {
   "cell_type": "code",
   "execution_count": 17,
   "metadata": {},
   "outputs": [],
   "source": [
    "# layer = tf.keras.layers.RandomZoom(height_factor = (-.2, -.2),\n",
    "#                                     width_factor= (-.2, -.2),\n",
    "#                                     seed=None,\n",
    "\n",
    "# )\n",
    "# plt.figure()\n",
    "\n",
    "# img_num = 1\n",
    "\n",
    "# for imgs, lbls in train_ds.take(1):\n",
    "#     out_image = layer(imgs)\n",
    "#     plt.subplot(1,2,1)\n",
    "#     plt.title('Original image')\n",
    "#     plt.imshow(imgs[img_num].numpy().astype('uint8')) # The method astype('uint8') converts the image data to the uint8 (unsigned 8-bit integer) type.\n",
    "\n",
    "#     plt.subplot(1, 2, 2)\n",
    "#     plt.title('zoomed image')\n",
    "#     plt.imshow(out_image[img_num].numpy().astype('uint8'))"
   ]
  },
  {
   "cell_type": "code",
   "execution_count": 18,
   "metadata": {},
   "outputs": [],
   "source": [
    "#### PREPROCESSING DATA\n",
    "train_ds = train_ds.cache().prefetch(buffer_size=tf.data.AUTOTUNE)\n",
    "test_ds = test_ds.cache().prefetch(buffer_size=tf.data.AUTOTUNE)"
   ]
  },
  {
   "cell_type": "markdown",
   "metadata": {},
   "source": [
    "### Model"
   ]
  },
  {
   "cell_type": "code",
   "execution_count": 20,
   "metadata": {},
   "outputs": [],
   "source": [
    "krnl_initializer = tf.keras.initializers.GlorotUniform(seed = RANDOM_STATE)\n",
    "# krnl_reg = tf.keras.regularizers.L2(l2 = 0.01)\n",
    "input_shape = (188, 188, 3)\n",
    "\n",
    "dor1 = .1\n",
    "dor2 = .2\n",
    "dor3 = .2\n",
    "dor4 = .3\n",
    "dor5 = .3\n",
    "dor6 = .4\n",
    "dor7 = .4\n",
    "\n",
    "inputs = tf.keras.Input(shape = input_shape, name = 'input')\n",
    "\n",
    "x = tf.keras.layers.Rescaling(1./255.)(inputs)\n",
    "\n",
    "# conv1\n",
    "\n",
    "x = tf.keras.layers.Conv2D(32, (3,3),\n",
    "                           kernel_initializer = krnl_initializer,\n",
    "                           # kernel_regularizer = krnl_reg,\n",
    "                           padding = 'same',\n",
    "                           # activation = tf.keras.activations.relu,\n",
    "                           name = 'conv_1')(x)  # (188, 188, 32)\n",
    "# batch normalization\n",
    "x = tf.keras.layers.BatchNormalization()(x)\n",
    "\n",
    "# activation\n",
    "x = tf.keras.layers.ReLU()(x)\n",
    "\n",
    "#Dropout\n",
    "\n",
    "# x =tf.keras.layers.Dropout(dor1)(x)\n",
    "# max pool\n",
    "\n",
    "x = tf.keras.layers.MaxPool2D((2, 2), (2, 2), name = 'mp_1')(x) #( 94 x 94 x 32)\n",
    "\n",
    "# conv2\n",
    "\n",
    "x = tf.keras.layers.Conv2D(64, (3,3),\n",
    "                           kernel_initializer = krnl_initializer,\n",
    "                           # kernel_regularizer = krnl_reg,\n",
    "                           padding = 'valid',\n",
    "                           # activation = tf.keras.activations.relu,\n",
    "                           name = 'conv_2')(x)  # (92, 92, 64)\n",
    "\n",
    "# batch normalization\n",
    "x = tf.keras.layers.BatchNormalization()(x)\n",
    "\n",
    "# activation\n",
    "x = tf.keras.layers.ReLU()(x)\n",
    "\n",
    "#Dropout\n",
    "\n",
    "# x =tf.keras.layers.Dropout(dor2)(x)\n",
    "\n",
    "# max pool\n",
    "\n",
    "x = tf.keras.layers.MaxPool2D(name = 'mp_2')(x) #( 46 x 46 x 64) # default filter size is '2 x 2' and default stride is None:- if None then stride will be same as the shape of filter\n",
    "\n",
    "\n",
    "##set3##\n",
    " # conv 3\n",
    "x  = tf.keras.layers.Conv2D(128, (3,3), \n",
    "                            kernel_initializer = krnl_initializer,\n",
    "                            # kernel_regularizer = krnl_reg,\n",
    "                            # activation = tf.keras.activations.relu,\n",
    "                            name = 'conv_3')(x) # (44 x 44 x 128)\n",
    "\n",
    "# batch normalization\n",
    "x = tf.keras.layers.BatchNormalization()(x)\n",
    "\n",
    "# activation\n",
    "x = tf.keras.layers.ReLU()(x)\n",
    "\n",
    "#Dropout\n",
    "\n",
    "# x =tf.keras.layers.Dropout(dor3)(x)\n",
    "\n",
    "# max pool\n",
    "\n",
    "x = tf.keras.layers.MaxPool2D(name = 'mp_3')(x) #( 22 x 22 x 128) # default filter size is '2 x 2' and default stride is None:- if None then stride will be same as the shape of filter\n",
    "\n",
    "\n",
    "##set4##\n",
    " # conv 4\n",
    "x  = tf.keras.layers.Conv2D(256, (3,3), \n",
    "                            kernel_initializer = krnl_initializer,\n",
    "                            # kernel_regularizer = krnl_reg,\n",
    "                            # activation = tf.keras.activations.relu,\n",
    "                            name = 'conv_4')(x) # (20 x 20 x 256)\n",
    "\n",
    "# batch normalization\n",
    "x = tf.keras.layers.BatchNormalization()(x)\n",
    "\n",
    "# activation\n",
    "x = tf.keras.layers.ReLU()(x)\n",
    "\n",
    "#Dropout\n",
    "\n",
    "# x =tf.keras.layers.Dropout(dor4)(x)\n",
    "\n",
    "# max pool\n",
    "\n",
    "x = tf.keras.layers.MaxPool2D(name = 'mp_4')(x) #( 10 x 10 x 10) # default filter size is '2 x 2' and default stride is None:- if None then stride will be same as the shape of filter\n",
    "\n",
    "\n",
    "##set5##\n",
    " # conv 5\n",
    "x  = tf.keras.layers.Conv2D(512, (3,3), \n",
    "                            kernel_initializer = krnl_initializer,\n",
    "                            # kernel_regularizer = krnl_reg,\n",
    "                            # activation = tf.keras.activations.relu,\n",
    "                            name = 'conv_5')(x) # (8 x 8 x 512)\n",
    "\n",
    "# batch normalization\n",
    "x = tf.keras.layers.BatchNormalization()(x)\n",
    "\n",
    "# activation\n",
    "x = tf.keras.layers.ReLU()(x)\n",
    "\n",
    "#Dropout\n",
    "\n",
    "# x =tf.keras.layers.Dropout(dor5)(x)\n",
    "\n",
    "# max pool\n",
    "\n",
    "x = tf.keras.layers.MaxPool2D(name = 'mp_5')(x) #( 4 x 4 x 512) # default filter size is '2 x 2' and default stride is None:- if None then stride will be same as the shape of filter\n",
    "\n",
    "\n",
    "##set5##\n",
    " # conv 5\n",
    "x  = tf.keras.layers.Conv2D(1024, (3,3), \n",
    "                            kernel_initializer = krnl_initializer,\n",
    "                            # kernel_regularizer = krnl_reg,\n",
    "                            # activation = tf.keras.activations.relu,\n",
    "                            name = 'conv_6')(x) # (2 x 2 x 1024)\n",
    "\n",
    "# batch normalization\n",
    "x = tf.keras.layers.BatchNormalization()(x)\n",
    "\n",
    "# activation\n",
    "x = tf.keras.layers.ReLU()(x)\n",
    "\n",
    "#Dropout\n",
    "\n",
    "# x =tf.keras.layers.Dropout(dor6)(x)\n",
    "\n",
    "\n",
    "# flattning layer\n",
    "x = tf.keras.layers.Flatten()(x)\n",
    "\n",
    "x = tf.keras.layers.Dense(128, name = 'fc_1',\n",
    "                          # kernel_regularizer = krnl_reg,\n",
    "                          # activation = tf.keras.activations.relu\n",
    "                         )(x)\n",
    "\n",
    "# batch normalization\n",
    "x = tf.keras.layers.BatchNormalization()(x)\n",
    "\n",
    "# activation\n",
    "x = tf.keras.layers.ReLU()(x)\n",
    "\n",
    "#Dropout\n",
    "\n",
    "x =tf.keras.layers.Dropout(dor7)(x)\n",
    "\n",
    "outputs = tf.keras.layers.Dense(10, name = 'output')(x)\n",
    "\n",
    "model = tf.keras.Model(inputs = inputs, outputs = outputs, name = 'MNIST')                                                         "
   ]
  },
  {
   "cell_type": "code",
   "execution_count": 21,
   "metadata": {},
   "outputs": [
    {
     "data": {
      "text/html": [
       "<pre style=\"white-space:pre;overflow-x:auto;line-height:normal;font-family:Menlo,'DejaVu Sans Mono',consolas,'Courier New',monospace\"><span style=\"font-weight: bold\">Model: \"MNIST\"</span>\n",
       "</pre>\n"
      ],
      "text/plain": [
       "\u001b[1mModel: \"MNIST\"\u001b[0m\n"
      ]
     },
     "metadata": {},
     "output_type": "display_data"
    },
    {
     "data": {
      "text/html": [
       "<pre style=\"white-space:pre;overflow-x:auto;line-height:normal;font-family:Menlo,'DejaVu Sans Mono',consolas,'Courier New',monospace\">┏━━━━━━━━━━━━━━━━━━━━━━━━━━━━━━━━━┳━━━━━━━━━━━━━━━━━━━━━━━━┳━━━━━━━━━━━━━━━┓\n",
       "┃<span style=\"font-weight: bold\"> Layer (type)                    </span>┃<span style=\"font-weight: bold\"> Output Shape           </span>┃<span style=\"font-weight: bold\">       Param # </span>┃\n",
       "┡━━━━━━━━━━━━━━━━━━━━━━━━━━━━━━━━━╇━━━━━━━━━━━━━━━━━━━━━━━━╇━━━━━━━━━━━━━━━┩\n",
       "│ input (<span style=\"color: #0087ff; text-decoration-color: #0087ff\">InputLayer</span>)              │ (<span style=\"color: #00d7ff; text-decoration-color: #00d7ff\">None</span>, <span style=\"color: #00af00; text-decoration-color: #00af00\">188</span>, <span style=\"color: #00af00; text-decoration-color: #00af00\">188</span>, <span style=\"color: #00af00; text-decoration-color: #00af00\">3</span>)    │             <span style=\"color: #00af00; text-decoration-color: #00af00\">0</span> │\n",
       "├─────────────────────────────────┼────────────────────────┼───────────────┤\n",
       "│ rescaling (<span style=\"color: #0087ff; text-decoration-color: #0087ff\">Rescaling</span>)           │ (<span style=\"color: #00d7ff; text-decoration-color: #00d7ff\">None</span>, <span style=\"color: #00af00; text-decoration-color: #00af00\">188</span>, <span style=\"color: #00af00; text-decoration-color: #00af00\">188</span>, <span style=\"color: #00af00; text-decoration-color: #00af00\">3</span>)    │             <span style=\"color: #00af00; text-decoration-color: #00af00\">0</span> │\n",
       "├─────────────────────────────────┼────────────────────────┼───────────────┤\n",
       "│ conv_1 (<span style=\"color: #0087ff; text-decoration-color: #0087ff\">Conv2D</span>)                 │ (<span style=\"color: #00d7ff; text-decoration-color: #00d7ff\">None</span>, <span style=\"color: #00af00; text-decoration-color: #00af00\">188</span>, <span style=\"color: #00af00; text-decoration-color: #00af00\">188</span>, <span style=\"color: #00af00; text-decoration-color: #00af00\">32</span>)   │           <span style=\"color: #00af00; text-decoration-color: #00af00\">896</span> │\n",
       "├─────────────────────────────────┼────────────────────────┼───────────────┤\n",
       "│ batch_normalization             │ (<span style=\"color: #00d7ff; text-decoration-color: #00d7ff\">None</span>, <span style=\"color: #00af00; text-decoration-color: #00af00\">188</span>, <span style=\"color: #00af00; text-decoration-color: #00af00\">188</span>, <span style=\"color: #00af00; text-decoration-color: #00af00\">32</span>)   │           <span style=\"color: #00af00; text-decoration-color: #00af00\">128</span> │\n",
       "│ (<span style=\"color: #0087ff; text-decoration-color: #0087ff\">BatchNormalization</span>)            │                        │               │\n",
       "├─────────────────────────────────┼────────────────────────┼───────────────┤\n",
       "│ re_lu (<span style=\"color: #0087ff; text-decoration-color: #0087ff\">ReLU</span>)                    │ (<span style=\"color: #00d7ff; text-decoration-color: #00d7ff\">None</span>, <span style=\"color: #00af00; text-decoration-color: #00af00\">188</span>, <span style=\"color: #00af00; text-decoration-color: #00af00\">188</span>, <span style=\"color: #00af00; text-decoration-color: #00af00\">32</span>)   │             <span style=\"color: #00af00; text-decoration-color: #00af00\">0</span> │\n",
       "├─────────────────────────────────┼────────────────────────┼───────────────┤\n",
       "│ mp_1 (<span style=\"color: #0087ff; text-decoration-color: #0087ff\">MaxPooling2D</span>)             │ (<span style=\"color: #00d7ff; text-decoration-color: #00d7ff\">None</span>, <span style=\"color: #00af00; text-decoration-color: #00af00\">94</span>, <span style=\"color: #00af00; text-decoration-color: #00af00\">94</span>, <span style=\"color: #00af00; text-decoration-color: #00af00\">32</span>)     │             <span style=\"color: #00af00; text-decoration-color: #00af00\">0</span> │\n",
       "├─────────────────────────────────┼────────────────────────┼───────────────┤\n",
       "│ conv_2 (<span style=\"color: #0087ff; text-decoration-color: #0087ff\">Conv2D</span>)                 │ (<span style=\"color: #00d7ff; text-decoration-color: #00d7ff\">None</span>, <span style=\"color: #00af00; text-decoration-color: #00af00\">92</span>, <span style=\"color: #00af00; text-decoration-color: #00af00\">92</span>, <span style=\"color: #00af00; text-decoration-color: #00af00\">64</span>)     │        <span style=\"color: #00af00; text-decoration-color: #00af00\">18,496</span> │\n",
       "├─────────────────────────────────┼────────────────────────┼───────────────┤\n",
       "│ batch_normalization_1           │ (<span style=\"color: #00d7ff; text-decoration-color: #00d7ff\">None</span>, <span style=\"color: #00af00; text-decoration-color: #00af00\">92</span>, <span style=\"color: #00af00; text-decoration-color: #00af00\">92</span>, <span style=\"color: #00af00; text-decoration-color: #00af00\">64</span>)     │           <span style=\"color: #00af00; text-decoration-color: #00af00\">256</span> │\n",
       "│ (<span style=\"color: #0087ff; text-decoration-color: #0087ff\">BatchNormalization</span>)            │                        │               │\n",
       "├─────────────────────────────────┼────────────────────────┼───────────────┤\n",
       "│ re_lu_1 (<span style=\"color: #0087ff; text-decoration-color: #0087ff\">ReLU</span>)                  │ (<span style=\"color: #00d7ff; text-decoration-color: #00d7ff\">None</span>, <span style=\"color: #00af00; text-decoration-color: #00af00\">92</span>, <span style=\"color: #00af00; text-decoration-color: #00af00\">92</span>, <span style=\"color: #00af00; text-decoration-color: #00af00\">64</span>)     │             <span style=\"color: #00af00; text-decoration-color: #00af00\">0</span> │\n",
       "├─────────────────────────────────┼────────────────────────┼───────────────┤\n",
       "│ mp_2 (<span style=\"color: #0087ff; text-decoration-color: #0087ff\">MaxPooling2D</span>)             │ (<span style=\"color: #00d7ff; text-decoration-color: #00d7ff\">None</span>, <span style=\"color: #00af00; text-decoration-color: #00af00\">46</span>, <span style=\"color: #00af00; text-decoration-color: #00af00\">46</span>, <span style=\"color: #00af00; text-decoration-color: #00af00\">64</span>)     │             <span style=\"color: #00af00; text-decoration-color: #00af00\">0</span> │\n",
       "├─────────────────────────────────┼────────────────────────┼───────────────┤\n",
       "│ conv_3 (<span style=\"color: #0087ff; text-decoration-color: #0087ff\">Conv2D</span>)                 │ (<span style=\"color: #00d7ff; text-decoration-color: #00d7ff\">None</span>, <span style=\"color: #00af00; text-decoration-color: #00af00\">44</span>, <span style=\"color: #00af00; text-decoration-color: #00af00\">44</span>, <span style=\"color: #00af00; text-decoration-color: #00af00\">128</span>)    │        <span style=\"color: #00af00; text-decoration-color: #00af00\">73,856</span> │\n",
       "├─────────────────────────────────┼────────────────────────┼───────────────┤\n",
       "│ batch_normalization_2           │ (<span style=\"color: #00d7ff; text-decoration-color: #00d7ff\">None</span>, <span style=\"color: #00af00; text-decoration-color: #00af00\">44</span>, <span style=\"color: #00af00; text-decoration-color: #00af00\">44</span>, <span style=\"color: #00af00; text-decoration-color: #00af00\">128</span>)    │           <span style=\"color: #00af00; text-decoration-color: #00af00\">512</span> │\n",
       "│ (<span style=\"color: #0087ff; text-decoration-color: #0087ff\">BatchNormalization</span>)            │                        │               │\n",
       "├─────────────────────────────────┼────────────────────────┼───────────────┤\n",
       "│ re_lu_2 (<span style=\"color: #0087ff; text-decoration-color: #0087ff\">ReLU</span>)                  │ (<span style=\"color: #00d7ff; text-decoration-color: #00d7ff\">None</span>, <span style=\"color: #00af00; text-decoration-color: #00af00\">44</span>, <span style=\"color: #00af00; text-decoration-color: #00af00\">44</span>, <span style=\"color: #00af00; text-decoration-color: #00af00\">128</span>)    │             <span style=\"color: #00af00; text-decoration-color: #00af00\">0</span> │\n",
       "├─────────────────────────────────┼────────────────────────┼───────────────┤\n",
       "│ mp_3 (<span style=\"color: #0087ff; text-decoration-color: #0087ff\">MaxPooling2D</span>)             │ (<span style=\"color: #00d7ff; text-decoration-color: #00d7ff\">None</span>, <span style=\"color: #00af00; text-decoration-color: #00af00\">22</span>, <span style=\"color: #00af00; text-decoration-color: #00af00\">22</span>, <span style=\"color: #00af00; text-decoration-color: #00af00\">128</span>)    │             <span style=\"color: #00af00; text-decoration-color: #00af00\">0</span> │\n",
       "├─────────────────────────────────┼────────────────────────┼───────────────┤\n",
       "│ conv_4 (<span style=\"color: #0087ff; text-decoration-color: #0087ff\">Conv2D</span>)                 │ (<span style=\"color: #00d7ff; text-decoration-color: #00d7ff\">None</span>, <span style=\"color: #00af00; text-decoration-color: #00af00\">20</span>, <span style=\"color: #00af00; text-decoration-color: #00af00\">20</span>, <span style=\"color: #00af00; text-decoration-color: #00af00\">256</span>)    │       <span style=\"color: #00af00; text-decoration-color: #00af00\">295,168</span> │\n",
       "├─────────────────────────────────┼────────────────────────┼───────────────┤\n",
       "│ batch_normalization_3           │ (<span style=\"color: #00d7ff; text-decoration-color: #00d7ff\">None</span>, <span style=\"color: #00af00; text-decoration-color: #00af00\">20</span>, <span style=\"color: #00af00; text-decoration-color: #00af00\">20</span>, <span style=\"color: #00af00; text-decoration-color: #00af00\">256</span>)    │         <span style=\"color: #00af00; text-decoration-color: #00af00\">1,024</span> │\n",
       "│ (<span style=\"color: #0087ff; text-decoration-color: #0087ff\">BatchNormalization</span>)            │                        │               │\n",
       "├─────────────────────────────────┼────────────────────────┼───────────────┤\n",
       "│ re_lu_3 (<span style=\"color: #0087ff; text-decoration-color: #0087ff\">ReLU</span>)                  │ (<span style=\"color: #00d7ff; text-decoration-color: #00d7ff\">None</span>, <span style=\"color: #00af00; text-decoration-color: #00af00\">20</span>, <span style=\"color: #00af00; text-decoration-color: #00af00\">20</span>, <span style=\"color: #00af00; text-decoration-color: #00af00\">256</span>)    │             <span style=\"color: #00af00; text-decoration-color: #00af00\">0</span> │\n",
       "├─────────────────────────────────┼────────────────────────┼───────────────┤\n",
       "│ mp_4 (<span style=\"color: #0087ff; text-decoration-color: #0087ff\">MaxPooling2D</span>)             │ (<span style=\"color: #00d7ff; text-decoration-color: #00d7ff\">None</span>, <span style=\"color: #00af00; text-decoration-color: #00af00\">10</span>, <span style=\"color: #00af00; text-decoration-color: #00af00\">10</span>, <span style=\"color: #00af00; text-decoration-color: #00af00\">256</span>)    │             <span style=\"color: #00af00; text-decoration-color: #00af00\">0</span> │\n",
       "├─────────────────────────────────┼────────────────────────┼───────────────┤\n",
       "│ conv_5 (<span style=\"color: #0087ff; text-decoration-color: #0087ff\">Conv2D</span>)                 │ (<span style=\"color: #00d7ff; text-decoration-color: #00d7ff\">None</span>, <span style=\"color: #00af00; text-decoration-color: #00af00\">8</span>, <span style=\"color: #00af00; text-decoration-color: #00af00\">8</span>, <span style=\"color: #00af00; text-decoration-color: #00af00\">512</span>)      │     <span style=\"color: #00af00; text-decoration-color: #00af00\">1,180,160</span> │\n",
       "├─────────────────────────────────┼────────────────────────┼───────────────┤\n",
       "│ batch_normalization_4           │ (<span style=\"color: #00d7ff; text-decoration-color: #00d7ff\">None</span>, <span style=\"color: #00af00; text-decoration-color: #00af00\">8</span>, <span style=\"color: #00af00; text-decoration-color: #00af00\">8</span>, <span style=\"color: #00af00; text-decoration-color: #00af00\">512</span>)      │         <span style=\"color: #00af00; text-decoration-color: #00af00\">2,048</span> │\n",
       "│ (<span style=\"color: #0087ff; text-decoration-color: #0087ff\">BatchNormalization</span>)            │                        │               │\n",
       "├─────────────────────────────────┼────────────────────────┼───────────────┤\n",
       "│ re_lu_4 (<span style=\"color: #0087ff; text-decoration-color: #0087ff\">ReLU</span>)                  │ (<span style=\"color: #00d7ff; text-decoration-color: #00d7ff\">None</span>, <span style=\"color: #00af00; text-decoration-color: #00af00\">8</span>, <span style=\"color: #00af00; text-decoration-color: #00af00\">8</span>, <span style=\"color: #00af00; text-decoration-color: #00af00\">512</span>)      │             <span style=\"color: #00af00; text-decoration-color: #00af00\">0</span> │\n",
       "├─────────────────────────────────┼────────────────────────┼───────────────┤\n",
       "│ mp_5 (<span style=\"color: #0087ff; text-decoration-color: #0087ff\">MaxPooling2D</span>)             │ (<span style=\"color: #00d7ff; text-decoration-color: #00d7ff\">None</span>, <span style=\"color: #00af00; text-decoration-color: #00af00\">4</span>, <span style=\"color: #00af00; text-decoration-color: #00af00\">4</span>, <span style=\"color: #00af00; text-decoration-color: #00af00\">512</span>)      │             <span style=\"color: #00af00; text-decoration-color: #00af00\">0</span> │\n",
       "├─────────────────────────────────┼────────────────────────┼───────────────┤\n",
       "│ conv_6 (<span style=\"color: #0087ff; text-decoration-color: #0087ff\">Conv2D</span>)                 │ (<span style=\"color: #00d7ff; text-decoration-color: #00d7ff\">None</span>, <span style=\"color: #00af00; text-decoration-color: #00af00\">2</span>, <span style=\"color: #00af00; text-decoration-color: #00af00\">2</span>, <span style=\"color: #00af00; text-decoration-color: #00af00\">1024</span>)     │     <span style=\"color: #00af00; text-decoration-color: #00af00\">4,719,616</span> │\n",
       "├─────────────────────────────────┼────────────────────────┼───────────────┤\n",
       "│ batch_normalization_5           │ (<span style=\"color: #00d7ff; text-decoration-color: #00d7ff\">None</span>, <span style=\"color: #00af00; text-decoration-color: #00af00\">2</span>, <span style=\"color: #00af00; text-decoration-color: #00af00\">2</span>, <span style=\"color: #00af00; text-decoration-color: #00af00\">1024</span>)     │         <span style=\"color: #00af00; text-decoration-color: #00af00\">4,096</span> │\n",
       "│ (<span style=\"color: #0087ff; text-decoration-color: #0087ff\">BatchNormalization</span>)            │                        │               │\n",
       "├─────────────────────────────────┼────────────────────────┼───────────────┤\n",
       "│ re_lu_5 (<span style=\"color: #0087ff; text-decoration-color: #0087ff\">ReLU</span>)                  │ (<span style=\"color: #00d7ff; text-decoration-color: #00d7ff\">None</span>, <span style=\"color: #00af00; text-decoration-color: #00af00\">2</span>, <span style=\"color: #00af00; text-decoration-color: #00af00\">2</span>, <span style=\"color: #00af00; text-decoration-color: #00af00\">1024</span>)     │             <span style=\"color: #00af00; text-decoration-color: #00af00\">0</span> │\n",
       "├─────────────────────────────────┼────────────────────────┼───────────────┤\n",
       "│ flatten (<span style=\"color: #0087ff; text-decoration-color: #0087ff\">Flatten</span>)               │ (<span style=\"color: #00d7ff; text-decoration-color: #00d7ff\">None</span>, <span style=\"color: #00af00; text-decoration-color: #00af00\">4096</span>)           │             <span style=\"color: #00af00; text-decoration-color: #00af00\">0</span> │\n",
       "├─────────────────────────────────┼────────────────────────┼───────────────┤\n",
       "│ fc_1 (<span style=\"color: #0087ff; text-decoration-color: #0087ff\">Dense</span>)                    │ (<span style=\"color: #00d7ff; text-decoration-color: #00d7ff\">None</span>, <span style=\"color: #00af00; text-decoration-color: #00af00\">128</span>)            │       <span style=\"color: #00af00; text-decoration-color: #00af00\">524,416</span> │\n",
       "├─────────────────────────────────┼────────────────────────┼───────────────┤\n",
       "│ batch_normalization_6           │ (<span style=\"color: #00d7ff; text-decoration-color: #00d7ff\">None</span>, <span style=\"color: #00af00; text-decoration-color: #00af00\">128</span>)            │           <span style=\"color: #00af00; text-decoration-color: #00af00\">512</span> │\n",
       "│ (<span style=\"color: #0087ff; text-decoration-color: #0087ff\">BatchNormalization</span>)            │                        │               │\n",
       "├─────────────────────────────────┼────────────────────────┼───────────────┤\n",
       "│ re_lu_6 (<span style=\"color: #0087ff; text-decoration-color: #0087ff\">ReLU</span>)                  │ (<span style=\"color: #00d7ff; text-decoration-color: #00d7ff\">None</span>, <span style=\"color: #00af00; text-decoration-color: #00af00\">128</span>)            │             <span style=\"color: #00af00; text-decoration-color: #00af00\">0</span> │\n",
       "├─────────────────────────────────┼────────────────────────┼───────────────┤\n",
       "│ dropout (<span style=\"color: #0087ff; text-decoration-color: #0087ff\">Dropout</span>)               │ (<span style=\"color: #00d7ff; text-decoration-color: #00d7ff\">None</span>, <span style=\"color: #00af00; text-decoration-color: #00af00\">128</span>)            │             <span style=\"color: #00af00; text-decoration-color: #00af00\">0</span> │\n",
       "├─────────────────────────────────┼────────────────────────┼───────────────┤\n",
       "│ output (<span style=\"color: #0087ff; text-decoration-color: #0087ff\">Dense</span>)                  │ (<span style=\"color: #00d7ff; text-decoration-color: #00d7ff\">None</span>, <span style=\"color: #00af00; text-decoration-color: #00af00\">10</span>)             │         <span style=\"color: #00af00; text-decoration-color: #00af00\">1,290</span> │\n",
       "└─────────────────────────────────┴────────────────────────┴───────────────┘\n",
       "</pre>\n"
      ],
      "text/plain": [
       "┏━━━━━━━━━━━━━━━━━━━━━━━━━━━━━━━━━┳━━━━━━━━━━━━━━━━━━━━━━━━┳━━━━━━━━━━━━━━━┓\n",
       "┃\u001b[1m \u001b[0m\u001b[1mLayer (type)                   \u001b[0m\u001b[1m \u001b[0m┃\u001b[1m \u001b[0m\u001b[1mOutput Shape          \u001b[0m\u001b[1m \u001b[0m┃\u001b[1m \u001b[0m\u001b[1m      Param #\u001b[0m\u001b[1m \u001b[0m┃\n",
       "┡━━━━━━━━━━━━━━━━━━━━━━━━━━━━━━━━━╇━━━━━━━━━━━━━━━━━━━━━━━━╇━━━━━━━━━━━━━━━┩\n",
       "│ input (\u001b[38;5;33mInputLayer\u001b[0m)              │ (\u001b[38;5;45mNone\u001b[0m, \u001b[38;5;34m188\u001b[0m, \u001b[38;5;34m188\u001b[0m, \u001b[38;5;34m3\u001b[0m)    │             \u001b[38;5;34m0\u001b[0m │\n",
       "├─────────────────────────────────┼────────────────────────┼───────────────┤\n",
       "│ rescaling (\u001b[38;5;33mRescaling\u001b[0m)           │ (\u001b[38;5;45mNone\u001b[0m, \u001b[38;5;34m188\u001b[0m, \u001b[38;5;34m188\u001b[0m, \u001b[38;5;34m3\u001b[0m)    │             \u001b[38;5;34m0\u001b[0m │\n",
       "├─────────────────────────────────┼────────────────────────┼───────────────┤\n",
       "│ conv_1 (\u001b[38;5;33mConv2D\u001b[0m)                 │ (\u001b[38;5;45mNone\u001b[0m, \u001b[38;5;34m188\u001b[0m, \u001b[38;5;34m188\u001b[0m, \u001b[38;5;34m32\u001b[0m)   │           \u001b[38;5;34m896\u001b[0m │\n",
       "├─────────────────────────────────┼────────────────────────┼───────────────┤\n",
       "│ batch_normalization             │ (\u001b[38;5;45mNone\u001b[0m, \u001b[38;5;34m188\u001b[0m, \u001b[38;5;34m188\u001b[0m, \u001b[38;5;34m32\u001b[0m)   │           \u001b[38;5;34m128\u001b[0m │\n",
       "│ (\u001b[38;5;33mBatchNormalization\u001b[0m)            │                        │               │\n",
       "├─────────────────────────────────┼────────────────────────┼───────────────┤\n",
       "│ re_lu (\u001b[38;5;33mReLU\u001b[0m)                    │ (\u001b[38;5;45mNone\u001b[0m, \u001b[38;5;34m188\u001b[0m, \u001b[38;5;34m188\u001b[0m, \u001b[38;5;34m32\u001b[0m)   │             \u001b[38;5;34m0\u001b[0m │\n",
       "├─────────────────────────────────┼────────────────────────┼───────────────┤\n",
       "│ mp_1 (\u001b[38;5;33mMaxPooling2D\u001b[0m)             │ (\u001b[38;5;45mNone\u001b[0m, \u001b[38;5;34m94\u001b[0m, \u001b[38;5;34m94\u001b[0m, \u001b[38;5;34m32\u001b[0m)     │             \u001b[38;5;34m0\u001b[0m │\n",
       "├─────────────────────────────────┼────────────────────────┼───────────────┤\n",
       "│ conv_2 (\u001b[38;5;33mConv2D\u001b[0m)                 │ (\u001b[38;5;45mNone\u001b[0m, \u001b[38;5;34m92\u001b[0m, \u001b[38;5;34m92\u001b[0m, \u001b[38;5;34m64\u001b[0m)     │        \u001b[38;5;34m18,496\u001b[0m │\n",
       "├─────────────────────────────────┼────────────────────────┼───────────────┤\n",
       "│ batch_normalization_1           │ (\u001b[38;5;45mNone\u001b[0m, \u001b[38;5;34m92\u001b[0m, \u001b[38;5;34m92\u001b[0m, \u001b[38;5;34m64\u001b[0m)     │           \u001b[38;5;34m256\u001b[0m │\n",
       "│ (\u001b[38;5;33mBatchNormalization\u001b[0m)            │                        │               │\n",
       "├─────────────────────────────────┼────────────────────────┼───────────────┤\n",
       "│ re_lu_1 (\u001b[38;5;33mReLU\u001b[0m)                  │ (\u001b[38;5;45mNone\u001b[0m, \u001b[38;5;34m92\u001b[0m, \u001b[38;5;34m92\u001b[0m, \u001b[38;5;34m64\u001b[0m)     │             \u001b[38;5;34m0\u001b[0m │\n",
       "├─────────────────────────────────┼────────────────────────┼───────────────┤\n",
       "│ mp_2 (\u001b[38;5;33mMaxPooling2D\u001b[0m)             │ (\u001b[38;5;45mNone\u001b[0m, \u001b[38;5;34m46\u001b[0m, \u001b[38;5;34m46\u001b[0m, \u001b[38;5;34m64\u001b[0m)     │             \u001b[38;5;34m0\u001b[0m │\n",
       "├─────────────────────────────────┼────────────────────────┼───────────────┤\n",
       "│ conv_3 (\u001b[38;5;33mConv2D\u001b[0m)                 │ (\u001b[38;5;45mNone\u001b[0m, \u001b[38;5;34m44\u001b[0m, \u001b[38;5;34m44\u001b[0m, \u001b[38;5;34m128\u001b[0m)    │        \u001b[38;5;34m73,856\u001b[0m │\n",
       "├─────────────────────────────────┼────────────────────────┼───────────────┤\n",
       "│ batch_normalization_2           │ (\u001b[38;5;45mNone\u001b[0m, \u001b[38;5;34m44\u001b[0m, \u001b[38;5;34m44\u001b[0m, \u001b[38;5;34m128\u001b[0m)    │           \u001b[38;5;34m512\u001b[0m │\n",
       "│ (\u001b[38;5;33mBatchNormalization\u001b[0m)            │                        │               │\n",
       "├─────────────────────────────────┼────────────────────────┼───────────────┤\n",
       "│ re_lu_2 (\u001b[38;5;33mReLU\u001b[0m)                  │ (\u001b[38;5;45mNone\u001b[0m, \u001b[38;5;34m44\u001b[0m, \u001b[38;5;34m44\u001b[0m, \u001b[38;5;34m128\u001b[0m)    │             \u001b[38;5;34m0\u001b[0m │\n",
       "├─────────────────────────────────┼────────────────────────┼───────────────┤\n",
       "│ mp_3 (\u001b[38;5;33mMaxPooling2D\u001b[0m)             │ (\u001b[38;5;45mNone\u001b[0m, \u001b[38;5;34m22\u001b[0m, \u001b[38;5;34m22\u001b[0m, \u001b[38;5;34m128\u001b[0m)    │             \u001b[38;5;34m0\u001b[0m │\n",
       "├─────────────────────────────────┼────────────────────────┼───────────────┤\n",
       "│ conv_4 (\u001b[38;5;33mConv2D\u001b[0m)                 │ (\u001b[38;5;45mNone\u001b[0m, \u001b[38;5;34m20\u001b[0m, \u001b[38;5;34m20\u001b[0m, \u001b[38;5;34m256\u001b[0m)    │       \u001b[38;5;34m295,168\u001b[0m │\n",
       "├─────────────────────────────────┼────────────────────────┼───────────────┤\n",
       "│ batch_normalization_3           │ (\u001b[38;5;45mNone\u001b[0m, \u001b[38;5;34m20\u001b[0m, \u001b[38;5;34m20\u001b[0m, \u001b[38;5;34m256\u001b[0m)    │         \u001b[38;5;34m1,024\u001b[0m │\n",
       "│ (\u001b[38;5;33mBatchNormalization\u001b[0m)            │                        │               │\n",
       "├─────────────────────────────────┼────────────────────────┼───────────────┤\n",
       "│ re_lu_3 (\u001b[38;5;33mReLU\u001b[0m)                  │ (\u001b[38;5;45mNone\u001b[0m, \u001b[38;5;34m20\u001b[0m, \u001b[38;5;34m20\u001b[0m, \u001b[38;5;34m256\u001b[0m)    │             \u001b[38;5;34m0\u001b[0m │\n",
       "├─────────────────────────────────┼────────────────────────┼───────────────┤\n",
       "│ mp_4 (\u001b[38;5;33mMaxPooling2D\u001b[0m)             │ (\u001b[38;5;45mNone\u001b[0m, \u001b[38;5;34m10\u001b[0m, \u001b[38;5;34m10\u001b[0m, \u001b[38;5;34m256\u001b[0m)    │             \u001b[38;5;34m0\u001b[0m │\n",
       "├─────────────────────────────────┼────────────────────────┼───────────────┤\n",
       "│ conv_5 (\u001b[38;5;33mConv2D\u001b[0m)                 │ (\u001b[38;5;45mNone\u001b[0m, \u001b[38;5;34m8\u001b[0m, \u001b[38;5;34m8\u001b[0m, \u001b[38;5;34m512\u001b[0m)      │     \u001b[38;5;34m1,180,160\u001b[0m │\n",
       "├─────────────────────────────────┼────────────────────────┼───────────────┤\n",
       "│ batch_normalization_4           │ (\u001b[38;5;45mNone\u001b[0m, \u001b[38;5;34m8\u001b[0m, \u001b[38;5;34m8\u001b[0m, \u001b[38;5;34m512\u001b[0m)      │         \u001b[38;5;34m2,048\u001b[0m │\n",
       "│ (\u001b[38;5;33mBatchNormalization\u001b[0m)            │                        │               │\n",
       "├─────────────────────────────────┼────────────────────────┼───────────────┤\n",
       "│ re_lu_4 (\u001b[38;5;33mReLU\u001b[0m)                  │ (\u001b[38;5;45mNone\u001b[0m, \u001b[38;5;34m8\u001b[0m, \u001b[38;5;34m8\u001b[0m, \u001b[38;5;34m512\u001b[0m)      │             \u001b[38;5;34m0\u001b[0m │\n",
       "├─────────────────────────────────┼────────────────────────┼───────────────┤\n",
       "│ mp_5 (\u001b[38;5;33mMaxPooling2D\u001b[0m)             │ (\u001b[38;5;45mNone\u001b[0m, \u001b[38;5;34m4\u001b[0m, \u001b[38;5;34m4\u001b[0m, \u001b[38;5;34m512\u001b[0m)      │             \u001b[38;5;34m0\u001b[0m │\n",
       "├─────────────────────────────────┼────────────────────────┼───────────────┤\n",
       "│ conv_6 (\u001b[38;5;33mConv2D\u001b[0m)                 │ (\u001b[38;5;45mNone\u001b[0m, \u001b[38;5;34m2\u001b[0m, \u001b[38;5;34m2\u001b[0m, \u001b[38;5;34m1024\u001b[0m)     │     \u001b[38;5;34m4,719,616\u001b[0m │\n",
       "├─────────────────────────────────┼────────────────────────┼───────────────┤\n",
       "│ batch_normalization_5           │ (\u001b[38;5;45mNone\u001b[0m, \u001b[38;5;34m2\u001b[0m, \u001b[38;5;34m2\u001b[0m, \u001b[38;5;34m1024\u001b[0m)     │         \u001b[38;5;34m4,096\u001b[0m │\n",
       "│ (\u001b[38;5;33mBatchNormalization\u001b[0m)            │                        │               │\n",
       "├─────────────────────────────────┼────────────────────────┼───────────────┤\n",
       "│ re_lu_5 (\u001b[38;5;33mReLU\u001b[0m)                  │ (\u001b[38;5;45mNone\u001b[0m, \u001b[38;5;34m2\u001b[0m, \u001b[38;5;34m2\u001b[0m, \u001b[38;5;34m1024\u001b[0m)     │             \u001b[38;5;34m0\u001b[0m │\n",
       "├─────────────────────────────────┼────────────────────────┼───────────────┤\n",
       "│ flatten (\u001b[38;5;33mFlatten\u001b[0m)               │ (\u001b[38;5;45mNone\u001b[0m, \u001b[38;5;34m4096\u001b[0m)           │             \u001b[38;5;34m0\u001b[0m │\n",
       "├─────────────────────────────────┼────────────────────────┼───────────────┤\n",
       "│ fc_1 (\u001b[38;5;33mDense\u001b[0m)                    │ (\u001b[38;5;45mNone\u001b[0m, \u001b[38;5;34m128\u001b[0m)            │       \u001b[38;5;34m524,416\u001b[0m │\n",
       "├─────────────────────────────────┼────────────────────────┼───────────────┤\n",
       "│ batch_normalization_6           │ (\u001b[38;5;45mNone\u001b[0m, \u001b[38;5;34m128\u001b[0m)            │           \u001b[38;5;34m512\u001b[0m │\n",
       "│ (\u001b[38;5;33mBatchNormalization\u001b[0m)            │                        │               │\n",
       "├─────────────────────────────────┼────────────────────────┼───────────────┤\n",
       "│ re_lu_6 (\u001b[38;5;33mReLU\u001b[0m)                  │ (\u001b[38;5;45mNone\u001b[0m, \u001b[38;5;34m128\u001b[0m)            │             \u001b[38;5;34m0\u001b[0m │\n",
       "├─────────────────────────────────┼────────────────────────┼───────────────┤\n",
       "│ dropout (\u001b[38;5;33mDropout\u001b[0m)               │ (\u001b[38;5;45mNone\u001b[0m, \u001b[38;5;34m128\u001b[0m)            │             \u001b[38;5;34m0\u001b[0m │\n",
       "├─────────────────────────────────┼────────────────────────┼───────────────┤\n",
       "│ output (\u001b[38;5;33mDense\u001b[0m)                  │ (\u001b[38;5;45mNone\u001b[0m, \u001b[38;5;34m10\u001b[0m)             │         \u001b[38;5;34m1,290\u001b[0m │\n",
       "└─────────────────────────────────┴────────────────────────┴───────────────┘\n"
      ]
     },
     "metadata": {},
     "output_type": "display_data"
    },
    {
     "data": {
      "text/html": [
       "<pre style=\"white-space:pre;overflow-x:auto;line-height:normal;font-family:Menlo,'DejaVu Sans Mono',consolas,'Courier New',monospace\"><span style=\"font-weight: bold\"> Total params: </span><span style=\"color: #00af00; text-decoration-color: #00af00\">6,822,474</span> (26.03 MB)\n",
       "</pre>\n"
      ],
      "text/plain": [
       "\u001b[1m Total params: \u001b[0m\u001b[38;5;34m6,822,474\u001b[0m (26.03 MB)\n"
      ]
     },
     "metadata": {},
     "output_type": "display_data"
    },
    {
     "data": {
      "text/html": [
       "<pre style=\"white-space:pre;overflow-x:auto;line-height:normal;font-family:Menlo,'DejaVu Sans Mono',consolas,'Courier New',monospace\"><span style=\"font-weight: bold\"> Trainable params: </span><span style=\"color: #00af00; text-decoration-color: #00af00\">6,818,186</span> (26.01 MB)\n",
       "</pre>\n"
      ],
      "text/plain": [
       "\u001b[1m Trainable params: \u001b[0m\u001b[38;5;34m6,818,186\u001b[0m (26.01 MB)\n"
      ]
     },
     "metadata": {},
     "output_type": "display_data"
    },
    {
     "data": {
      "text/html": [
       "<pre style=\"white-space:pre;overflow-x:auto;line-height:normal;font-family:Menlo,'DejaVu Sans Mono',consolas,'Courier New',monospace\"><span style=\"font-weight: bold\"> Non-trainable params: </span><span style=\"color: #00af00; text-decoration-color: #00af00\">4,288</span> (16.75 KB)\n",
       "</pre>\n"
      ],
      "text/plain": [
       "\u001b[1m Non-trainable params: \u001b[0m\u001b[38;5;34m4,288\u001b[0m (16.75 KB)\n"
      ]
     },
     "metadata": {},
     "output_type": "display_data"
    }
   ],
   "source": [
    "model.summary()"
   ]
  },
  {
   "cell_type": "code",
   "execution_count": 22,
   "metadata": {},
   "outputs": [],
   "source": [
    "import numpy as np\n",
    "from sklearn.utils import class_weight\n",
    "\n",
    "# Step 1: Extract the labels from the dataset\n",
    "labels = []\n",
    "for images, lbls in train_ds:\n",
    "    labels.extend(lbls.numpy())  # Collect labels from the dataset\n",
    "\n",
    "# Convert the list of labels into a numpy array\n",
    "labels = np.array(labels)\n",
    "\n",
    "# Step 2: Compute class weights\n",
    "class_weights = class_weight.compute_class_weight(\n",
    "    'balanced', \n",
    "    classes=np.unique(labels),  # The unique class labels\n",
    "    y=labels  # The labels from the dataset\n",
    ")\n",
    "\n",
    "# Step 3: Convert the class weights to a dictionary\n",
    "class_weight_dict = dict(enumerate(class_weights))"
   ]
  },
  {
   "cell_type": "code",
   "execution_count": 23,
   "metadata": {},
   "outputs": [
    {
     "data": {
      "text/plain": [
       "{0: 1.1910750507099392,\n",
       " 1: 0.8121715076071923,\n",
       " 2: 1.1184761904761904,\n",
       " 3: 1.0467023172905525,\n",
       " 4: 0.9261829652996846}"
      ]
     },
     "execution_count": 23,
     "metadata": {},
     "output_type": "execute_result"
    }
   ],
   "source": [
    "class_weight_dict\n",
    "# class_weight=class_weight_dict"
   ]
  },
  {
   "cell_type": "code",
   "execution_count": 24,
   "metadata": {},
   "outputs": [],
   "source": [
    "loss_fn = tf.keras.losses.SparseCategoricalCrossentropy(from_logits = True)"
   ]
  },
  {
   "cell_type": "code",
   "execution_count": 25,
   "metadata": {},
   "outputs": [],
   "source": [
    "# optimizer = tf.keras.optimizers.SGD(\n",
    "#     learning_rate=ALPHA,  # Replace ALPHA with the learning rate you want (e.g., 0.01)\n",
    "#     momentum=0.9,         # Optional: Add momentum for faster convergence (commonly 0.9)\n",
    "#     nesterov=True        # Optional: Enable Nesterov momentum (set to True if needed)\n",
    "# )\n",
    "\n",
    "\n",
    "optimizer = tf.keras.optimizers.RMSprop(\n",
    "    learning_rate=ALPHA,  # Replace ALPHA with the learning rate you want (e.g., 0.001)\n",
    "    rho=0.9,              # Decay factor for moving average of squared gradients\n",
    "    momentum=0.0,         # Optional: Add momentum (default is no momentum)\n",
    "    epsilon=1e-07,        # Small value to avoid division by zero\n",
    "    centered=False        # If True, uses centered RMSprop (subtract mean gradient)\n",
    ")"
   ]
  },
  {
   "cell_type": "code",
   "execution_count": 26,
   "metadata": {},
   "outputs": [],
   "source": [
    "# optimizer = tf.keras.optimizers.Adam(learning_rate = ALPHA)\n",
    "model.compile(optimizer = optimizer, loss = loss_fn, metrics = ['accuracy'], )"
   ]
  },
  {
   "cell_type": "code",
   "execution_count": 27,
   "metadata": {},
   "outputs": [],
   "source": [
    "epochs = 0\n",
    "chkptFilePath = os.path.join(modelDir, subDir, f'cnn{epochs}.weights.h5')\n",
    "PATIENCE = 10\n",
    "LR_FACTOR= .1\n",
    "LR_PATIENCE = 5\n",
    "mcb = tf.keras.callbacks.ModelCheckpoint(chkptFilePath,\n",
    "                                         monitor = 'val_loss',\n",
    "                                        verbose = 1,\n",
    "                                        save_best_only = True,\n",
    "                                        save_weights_only = True)\n",
    "\n",
    "escb = tf.keras.callbacks.EarlyStopping(patience = PATIENCE,\n",
    "                                 verbose =1,\n",
    "                                 restore_best_weights = True)\n",
    "\n",
    "lrcb = tf.keras.callbacks.ReduceLROnPlateau(factor = LR_FACTOR,\n",
    "                                            patience = LR_PATIENCE,\n",
    "                                            verbose = 1)\n",
    "                                            "
   ]
  },
  {
   "cell_type": "code",
   "execution_count": 28,
   "metadata": {
    "scrolled": true
   },
   "outputs": [
    {
     "name": "stdout",
     "output_type": "stream",
     "text": [
      "Epoch 1/100\n",
      "\n",
      "Epoch 1: val_loss improved from inf to 1.97381, saving model to ../models\\flower_photos\\cnn0.weights.h5\n",
      "92/92 - 101s - 1s/step - accuracy: 0.5054 - loss: 1.3808 - val_accuracy: 0.3733 - val_loss: 1.9738 - learning_rate: 0.0010\n",
      "Epoch 2/100\n",
      "\n",
      "Epoch 2: val_loss did not improve from 1.97381\n",
      "92/92 - 88s - 959ms/step - accuracy: 0.6230 - loss: 1.0142 - val_accuracy: 0.3597 - val_loss: 2.5080 - learning_rate: 0.0010\n",
      "Epoch 3/100\n",
      "\n",
      "Epoch 3: val_loss improved from 1.97381 to 1.96366, saving model to ../models\\flower_photos\\cnn0.weights.h5\n",
      "92/92 - 92s - 996ms/step - accuracy: 0.6856 - loss: 0.8415 - val_accuracy: 0.4005 - val_loss: 1.9637 - learning_rate: 0.0010\n",
      "Epoch 4/100\n",
      "\n",
      "Epoch 4: val_loss improved from 1.96366 to 1.60601, saving model to ../models\\flower_photos\\cnn0.weights.h5\n",
      "92/92 - 90s - 976ms/step - accuracy: 0.7245 - loss: 0.7331 - val_accuracy: 0.5531 - val_loss: 1.6060 - learning_rate: 0.0010\n",
      "Epoch 5/100\n",
      "\n",
      "Epoch 5: val_loss improved from 1.60601 to 1.27981, saving model to ../models\\flower_photos\\cnn0.weights.h5\n",
      "92/92 - 90s - 981ms/step - accuracy: 0.7612 - loss: 0.6419 - val_accuracy: 0.6185 - val_loss: 1.2798 - learning_rate: 0.0010\n",
      "Epoch 6/100\n",
      "\n",
      "Epoch 6: val_loss improved from 1.27981 to 0.98983, saving model to ../models\\flower_photos\\cnn0.weights.h5\n",
      "92/92 - 92s - 1s/step - accuracy: 0.7868 - loss: 0.5711 - val_accuracy: 0.6771 - val_loss: 0.9898 - learning_rate: 0.0010\n",
      "Epoch 7/100\n",
      "\n",
      "Epoch 7: val_loss improved from 0.98983 to 0.98081, saving model to ../models\\flower_photos\\cnn0.weights.h5\n",
      "92/92 - 91s - 988ms/step - accuracy: 0.8232 - loss: 0.4773 - val_accuracy: 0.6962 - val_loss: 0.9808 - learning_rate: 0.0010\n",
      "Epoch 8/100\n",
      "\n",
      "Epoch 8: val_loss did not improve from 0.98081\n",
      "92/92 - 87s - 948ms/step - accuracy: 0.8522 - loss: 0.4058 - val_accuracy: 0.6580 - val_loss: 1.1846 - learning_rate: 0.0010\n",
      "Epoch 9/100\n",
      "\n",
      "Epoch 9: val_loss did not improve from 0.98081\n",
      "92/92 - 87s - 948ms/step - accuracy: 0.8842 - loss: 0.3286 - val_accuracy: 0.6798 - val_loss: 1.2285 - learning_rate: 0.0010\n",
      "Epoch 10/100\n",
      "\n",
      "Epoch 10: val_loss did not improve from 0.98081\n",
      "92/92 - 87s - 949ms/step - accuracy: 0.9121 - loss: 0.2600 - val_accuracy: 0.5300 - val_loss: 2.5075 - learning_rate: 0.0010\n",
      "Epoch 11/100\n",
      "\n",
      "Epoch 11: val_loss did not improve from 0.98081\n",
      "92/92 - 87s - 949ms/step - accuracy: 0.9326 - loss: 0.1947 - val_accuracy: 0.6730 - val_loss: 1.3415 - learning_rate: 0.0010\n",
      "Epoch 12/100\n",
      "\n",
      "Epoch 12: val_loss did not improve from 0.98081\n",
      "\n",
      "Epoch 12: ReduceLROnPlateau reducing learning rate to 0.00010000000474974513.\n",
      "92/92 - 87s - 949ms/step - accuracy: 0.9472 - loss: 0.1505 - val_accuracy: 0.6076 - val_loss: 1.7243 - learning_rate: 0.0010\n",
      "Epoch 13/100\n",
      "\n",
      "Epoch 13: val_loss improved from 0.98081 to 0.90413, saving model to ../models\\flower_photos\\cnn0.weights.h5\n",
      "92/92 - 90s - 976ms/step - accuracy: 0.9653 - loss: 0.1051 - val_accuracy: 0.7602 - val_loss: 0.9041 - learning_rate: 1.0000e-04\n",
      "Epoch 14/100\n",
      "\n",
      "Epoch 14: val_loss did not improve from 0.90413\n",
      "92/92 - 88s - 952ms/step - accuracy: 0.9864 - loss: 0.0510 - val_accuracy: 0.7602 - val_loss: 0.9097 - learning_rate: 1.0000e-04\n",
      "Epoch 15/100\n",
      "\n",
      "Epoch 15: val_loss did not improve from 0.90413\n",
      "92/92 - 87s - 949ms/step - accuracy: 0.9956 - loss: 0.0288 - val_accuracy: 0.7548 - val_loss: 0.9298 - learning_rate: 1.0000e-04\n",
      "Epoch 16/100\n",
      "\n",
      "Epoch 16: val_loss did not improve from 0.90413\n",
      "92/92 - 87s - 950ms/step - accuracy: 0.9973 - loss: 0.0209 - val_accuracy: 0.7520 - val_loss: 0.9334 - learning_rate: 1.0000e-04\n",
      "Epoch 17/100\n",
      "\n",
      "Epoch 17: val_loss did not improve from 0.90413\n",
      "92/92 - 87s - 948ms/step - accuracy: 0.9997 - loss: 0.0145 - val_accuracy: 0.7575 - val_loss: 0.9729 - learning_rate: 1.0000e-04\n",
      "Epoch 18/100\n",
      "\n",
      "Epoch 18: val_loss did not improve from 0.90413\n",
      "\n",
      "Epoch 18: ReduceLROnPlateau reducing learning rate to 1.0000000474974514e-05.\n",
      "92/92 - 87s - 949ms/step - accuracy: 1.0000 - loss: 0.0112 - val_accuracy: 0.7534 - val_loss: 1.0019 - learning_rate: 1.0000e-04\n",
      "Epoch 19/100\n",
      "\n",
      "Epoch 19: val_loss did not improve from 0.90413\n",
      "92/92 - 88s - 951ms/step - accuracy: 1.0000 - loss: 0.0094 - val_accuracy: 0.7589 - val_loss: 0.9953 - learning_rate: 1.0000e-05\n",
      "Epoch 20/100\n",
      "\n",
      "Epoch 20: val_loss did not improve from 0.90413\n",
      "92/92 - 87s - 949ms/step - accuracy: 1.0000 - loss: 0.0089 - val_accuracy: 0.7561 - val_loss: 0.9957 - learning_rate: 1.0000e-05\n",
      "Epoch 21/100\n",
      "\n",
      "Epoch 21: val_loss did not improve from 0.90413\n",
      "92/92 - 88s - 959ms/step - accuracy: 1.0000 - loss: 0.0089 - val_accuracy: 0.7589 - val_loss: 0.9984 - learning_rate: 1.0000e-05\n",
      "Epoch 22/100\n",
      "\n",
      "Epoch 22: val_loss did not improve from 0.90413\n",
      "92/92 - 91s - 984ms/step - accuracy: 1.0000 - loss: 0.0088 - val_accuracy: 0.7589 - val_loss: 0.9980 - learning_rate: 1.0000e-05\n",
      "Epoch 23/100\n",
      "\n",
      "Epoch 23: val_loss did not improve from 0.90413\n",
      "\n",
      "Epoch 23: ReduceLROnPlateau reducing learning rate to 1.0000000656873453e-06.\n",
      "92/92 - 89s - 969ms/step - accuracy: 0.9997 - loss: 0.0083 - val_accuracy: 0.7589 - val_loss: 1.0036 - learning_rate: 1.0000e-05\n",
      "Epoch 23: early stopping\n",
      "Restoring model weights from the end of the best epoch: 13.\n"
     ]
    }
   ],
   "source": [
    "history = model.fit(train_ds, validation_data= test_ds, epochs = EPOCHS, verbose = 2, callbacks = [mcb, escb, lrcb], class_weight=class_weight_dict\n",
    "                   )"
   ]
  },
  {
   "cell_type": "code",
   "execution_count": 29,
   "metadata": {},
   "outputs": [
    {
     "data": {
      "image/png": "[encoded data removed]",
      "text/plain": [
       "<Figure size 1500x600 with 2 Axes>"
      ]
     },
     "metadata": {},
     "output_type": "display_data"
    }
   ],
   "source": [
    "loss_df = pd.DataFrame(history.history)\n",
    "fn_plot_tf_hist(loss_df)"
   ]
  },
  {
   "cell_type": "code",
   "execution_count": 30,
   "metadata": {},
   "outputs": [
    {
     "data": {
      "text/plain": [
       "(2936, 2936)"
      ]
     },
     "execution_count": 30,
     "metadata": {},
     "output_type": "execute_result"
    }
   ],
   "source": [
    "prediction_model = tf.keras.Sequential([\n",
    "    model,\n",
    "    tf.keras.layers.Softmax() # new model (prediction only) = original model+ softmax\n",
    "    ])\n",
    "y_true, y_pred = [], []\n",
    "for feat, lbls in train_ds:\n",
    "    pred = prediction_model(feat).numpy()\n",
    "    pred = pred.argmax(axis = 1)\n",
    "    y_true.extend(lbls)\n",
    "    y_pred.extend(pred)\n",
    "\n",
    "len(y_true), len(y_pred)"
   ]
  },
  {
   "cell_type": "code",
   "execution_count": 31,
   "metadata": {},
   "outputs": [
    {
     "name": "stdout",
     "output_type": "stream",
     "text": [
      "              precision    recall  f1-score   support\n",
      "\n",
      "           0       0.98      0.99      0.99       493\n",
      "           1       0.98      0.98      0.98       723\n",
      "           2       0.98      0.98      0.98       525\n",
      "           3       0.99      0.99      0.99       561\n",
      "           4       0.99      0.97      0.98       634\n",
      "\n",
      "    accuracy                           0.98      2936\n",
      "   macro avg       0.98      0.98      0.98      2936\n",
      "weighted avg       0.98      0.98      0.98      2936\n",
      "\n"
     ]
    }
   ],
   "source": [
    "print(classification_report(y_true, y_pred))"
   ]
  },
  {
   "cell_type": "code",
   "execution_count": 32,
   "metadata": {},
   "outputs": [
    {
     "data": {
      "text/plain": [
       "0.984327167121363"
      ]
     },
     "execution_count": 32,
     "metadata": {},
     "output_type": "execute_result"
    }
   ],
   "source": [
    "from sklearn.metrics import f1_score\n",
    "f1_score(y_true, y_pred, average = \"weighted\")"
   ]
  },
  {
   "cell_type": "markdown",
   "metadata": {
    "id": "sQegGSfoaYsU"
   },
   "source": [
    "### Reload best Weights for evaluation"
   ]
  },
  {
   "cell_type": "code",
   "execution_count": null,
   "metadata": {
    "colab": {
     "base_uri": "https://localhost:8080/",
     "height": 172
    },
    "id": "6CiPjPw8aYsU",
    "outputId": "616f0201-1eb2-4363-f533-d0084ae98849"
   },
   "outputs": [],
   "source": []
  },
  {
   "cell_type": "code",
   "execution_count": null,
   "metadata": {
    "id": "gCpeLlZUaYsU"
   },
   "outputs": [],
   "source": []
  },
  {
   "cell_type": "markdown",
   "metadata": {
    "id": "jKgyC5K_4O0d"
   },
   "source": [
    "### Evaluate the model"
   ]
  },
  {
   "cell_type": "code",
   "execution_count": null,
   "metadata": {
    "id": "wITFwqj7dSnI"
   },
   "outputs": [],
   "source": []
  },
  {
   "cell_type": "code",
   "execution_count": null,
   "metadata": {
    "id": "-gEzi_4UYhwI"
   },
   "outputs": [],
   "source": []
  },
  {
   "cell_type": "code",
   "execution_count": null,
   "metadata": {
    "id": "mS6GwSJBaYsX"
   },
   "outputs": [],
   "source": []
  },
  {
   "cell_type": "markdown",
   "metadata": {
    "id": "_s_57mncaYsX"
   },
   "source": [
    "## Validate on the validation set"
   ]
  },
  {
   "cell_type": "code",
   "execution_count": null,
   "metadata": {},
   "outputs": [],
   "source": []
  },
  {
   "cell_type": "code",
   "execution_count": null,
   "metadata": {},
   "outputs": [],
   "source": []
  },
  {
   "cell_type": "code",
   "execution_count": null,
   "metadata": {},
   "outputs": [],
   "source": []
  }
 ],
 "metadata": {
  "accelerator": "GPU",
  "colab": {
   "provenance": []
  },
  "gpuClass": "standard",
  "kernelspec": {
   "display_name": "Python 3 (ipykernel)",
   "language": "python",
   "name": "python3"
  },
  "language_info": {
   "codemirror_mode": {
    "name": "ipython",
    "version": 3
   },
   "file_extension": ".py",
   "mimetype": "text/x-python",
   "name": "python",
   "nbconvert_exporter": "python",
   "pygments_lexer": "ipython3",
   "version": "3.12.3"
  }
 },
 "nbformat": 4,
 "nbformat_minor": 4
}
